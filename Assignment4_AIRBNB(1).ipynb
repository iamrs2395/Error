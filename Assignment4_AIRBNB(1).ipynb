{
  "nbformat": 4,
  "nbformat_minor": 0,
  "metadata": {
    "colab": {
      "name": "Assignment4_AIRBNB.ipynb",
      "provenance": [],
      "collapsed_sections": []
    },
    "kernelspec": {
      "name": "python3",
      "display_name": "Python 3"
    },
    "language_info": {
      "name": "python"
    }
  },
  "cells": [
    {
      "cell_type": "code",
      "metadata": {
        "id": "80vY__R5ma0j"
      },
      "source": [
        "import pandas as pd\n",
        "import numpy as np\n",
        "import matplotlib.pyplot as plt\n",
        "import tensorflow as tf\n",
        "import seaborn as sns"
      ],
      "execution_count": 37,
      "outputs": []
    },
    {
      "cell_type": "code",
      "metadata": {
        "colab": {
          "base_uri": "https://localhost:8080/",
          "height": 383
        },
        "id": "KMKuWpAfnKLW",
        "outputId": "763a2d43-a8e9-4942-d684-a9577f85d8f0"
      },
      "source": [
        "df=pd.read_csv(\"/content/drive/MyDrive/Deep Learning/AB_NYC_2019.csv\")\n",
        "df.head()"
      ],
      "execution_count": 38,
      "outputs": [
        {
          "output_type": "execute_result",
          "data": {
            "text/html": [
              "<div>\n",
              "<style scoped>\n",
              "    .dataframe tbody tr th:only-of-type {\n",
              "        vertical-align: middle;\n",
              "    }\n",
              "\n",
              "    .dataframe tbody tr th {\n",
              "        vertical-align: top;\n",
              "    }\n",
              "\n",
              "    .dataframe thead th {\n",
              "        text-align: right;\n",
              "    }\n",
              "</style>\n",
              "<table border=\"1\" class=\"dataframe\">\n",
              "  <thead>\n",
              "    <tr style=\"text-align: right;\">\n",
              "      <th></th>\n",
              "      <th>id</th>\n",
              "      <th>name</th>\n",
              "      <th>host_id</th>\n",
              "      <th>host_name</th>\n",
              "      <th>neighbourhood_group</th>\n",
              "      <th>neighbourhood</th>\n",
              "      <th>latitude</th>\n",
              "      <th>longitude</th>\n",
              "      <th>room_type</th>\n",
              "      <th>price</th>\n",
              "      <th>minimum_nights</th>\n",
              "      <th>number_of_reviews</th>\n",
              "      <th>last_review</th>\n",
              "      <th>reviews_per_month</th>\n",
              "      <th>calculated_host_listings_count</th>\n",
              "      <th>availability_365</th>\n",
              "    </tr>\n",
              "  </thead>\n",
              "  <tbody>\n",
              "    <tr>\n",
              "      <th>0</th>\n",
              "      <td>2539</td>\n",
              "      <td>Clean &amp; quiet apt home by the park</td>\n",
              "      <td>2787</td>\n",
              "      <td>John</td>\n",
              "      <td>Brooklyn</td>\n",
              "      <td>Kensington</td>\n",
              "      <td>40.64749</td>\n",
              "      <td>-73.97237</td>\n",
              "      <td>Private room</td>\n",
              "      <td>149</td>\n",
              "      <td>1</td>\n",
              "      <td>9</td>\n",
              "      <td>2018-10-19</td>\n",
              "      <td>0.21</td>\n",
              "      <td>6</td>\n",
              "      <td>365</td>\n",
              "    </tr>\n",
              "    <tr>\n",
              "      <th>1</th>\n",
              "      <td>2595</td>\n",
              "      <td>Skylit Midtown Castle</td>\n",
              "      <td>2845</td>\n",
              "      <td>Jennifer</td>\n",
              "      <td>Manhattan</td>\n",
              "      <td>Midtown</td>\n",
              "      <td>40.75362</td>\n",
              "      <td>-73.98377</td>\n",
              "      <td>Entire home/apt</td>\n",
              "      <td>225</td>\n",
              "      <td>1</td>\n",
              "      <td>45</td>\n",
              "      <td>2019-05-21</td>\n",
              "      <td>0.38</td>\n",
              "      <td>2</td>\n",
              "      <td>355</td>\n",
              "    </tr>\n",
              "    <tr>\n",
              "      <th>2</th>\n",
              "      <td>3647</td>\n",
              "      <td>THE VILLAGE OF HARLEM....NEW YORK !</td>\n",
              "      <td>4632</td>\n",
              "      <td>Elisabeth</td>\n",
              "      <td>Manhattan</td>\n",
              "      <td>Harlem</td>\n",
              "      <td>40.80902</td>\n",
              "      <td>-73.94190</td>\n",
              "      <td>Private room</td>\n",
              "      <td>150</td>\n",
              "      <td>3</td>\n",
              "      <td>0</td>\n",
              "      <td>NaN</td>\n",
              "      <td>NaN</td>\n",
              "      <td>1</td>\n",
              "      <td>365</td>\n",
              "    </tr>\n",
              "    <tr>\n",
              "      <th>3</th>\n",
              "      <td>3831</td>\n",
              "      <td>Cozy Entire Floor of Brownstone</td>\n",
              "      <td>4869</td>\n",
              "      <td>LisaRoxanne</td>\n",
              "      <td>Brooklyn</td>\n",
              "      <td>Clinton Hill</td>\n",
              "      <td>40.68514</td>\n",
              "      <td>-73.95976</td>\n",
              "      <td>Entire home/apt</td>\n",
              "      <td>89</td>\n",
              "      <td>1</td>\n",
              "      <td>270</td>\n",
              "      <td>2019-07-05</td>\n",
              "      <td>4.64</td>\n",
              "      <td>1</td>\n",
              "      <td>194</td>\n",
              "    </tr>\n",
              "    <tr>\n",
              "      <th>4</th>\n",
              "      <td>5022</td>\n",
              "      <td>Entire Apt: Spacious Studio/Loft by central park</td>\n",
              "      <td>7192</td>\n",
              "      <td>Laura</td>\n",
              "      <td>Manhattan</td>\n",
              "      <td>East Harlem</td>\n",
              "      <td>40.79851</td>\n",
              "      <td>-73.94399</td>\n",
              "      <td>Entire home/apt</td>\n",
              "      <td>80</td>\n",
              "      <td>10</td>\n",
              "      <td>9</td>\n",
              "      <td>2018-11-19</td>\n",
              "      <td>0.10</td>\n",
              "      <td>1</td>\n",
              "      <td>0</td>\n",
              "    </tr>\n",
              "  </tbody>\n",
              "</table>\n",
              "</div>"
            ],
            "text/plain": [
              "     id  ... availability_365\n",
              "0  2539  ...              365\n",
              "1  2595  ...              355\n",
              "2  3647  ...              365\n",
              "3  3831  ...              194\n",
              "4  5022  ...                0\n",
              "\n",
              "[5 rows x 16 columns]"
            ]
          },
          "metadata": {
            "tags": []
          },
          "execution_count": 38
        }
      ]
    },
    {
      "cell_type": "code",
      "metadata": {
        "colab": {
          "base_uri": "https://localhost:8080/"
        },
        "id": "vun13G1RnN6j",
        "outputId": "6067e0f0-d005-43ed-bcd9-dace741eb817"
      },
      "source": [
        "df.shape"
      ],
      "execution_count": 39,
      "outputs": [
        {
          "output_type": "execute_result",
          "data": {
            "text/plain": [
              "(48895, 16)"
            ]
          },
          "metadata": {
            "tags": []
          },
          "execution_count": 39
        }
      ]
    },
    {
      "cell_type": "code",
      "metadata": {
        "colab": {
          "base_uri": "https://localhost:8080/"
        },
        "id": "XT-ylATRnc2y",
        "outputId": "f36048f8-5bbd-4e8d-ec06-901cdd90f02d"
      },
      "source": [
        "df.info()"
      ],
      "execution_count": 40,
      "outputs": [
        {
          "output_type": "stream",
          "text": [
            "<class 'pandas.core.frame.DataFrame'>\n",
            "RangeIndex: 48895 entries, 0 to 48894\n",
            "Data columns (total 16 columns):\n",
            " #   Column                          Non-Null Count  Dtype  \n",
            "---  ------                          --------------  -----  \n",
            " 0   id                              48895 non-null  int64  \n",
            " 1   name                            48879 non-null  object \n",
            " 2   host_id                         48895 non-null  int64  \n",
            " 3   host_name                       48874 non-null  object \n",
            " 4   neighbourhood_group             48895 non-null  object \n",
            " 5   neighbourhood                   48895 non-null  object \n",
            " 6   latitude                        48895 non-null  float64\n",
            " 7   longitude                       48895 non-null  float64\n",
            " 8   room_type                       48895 non-null  object \n",
            " 9   price                           48895 non-null  int64  \n",
            " 10  minimum_nights                  48895 non-null  int64  \n",
            " 11  number_of_reviews               48895 non-null  int64  \n",
            " 12  last_review                     38843 non-null  object \n",
            " 13  reviews_per_month               38843 non-null  float64\n",
            " 14  calculated_host_listings_count  48895 non-null  int64  \n",
            " 15  availability_365                48895 non-null  int64  \n",
            "dtypes: float64(3), int64(7), object(6)\n",
            "memory usage: 6.0+ MB\n"
          ],
          "name": "stdout"
        }
      ]
    },
    {
      "cell_type": "code",
      "metadata": {
        "colab": {
          "base_uri": "https://localhost:8080/"
        },
        "id": "H2E3zarIniwJ",
        "outputId": "b559ad3e-d543-47a6-8123-25f0cd52fc93"
      },
      "source": [
        "df.isnull().sum()"
      ],
      "execution_count": 41,
      "outputs": [
        {
          "output_type": "execute_result",
          "data": {
            "text/plain": [
              "id                                    0\n",
              "name                                 16\n",
              "host_id                               0\n",
              "host_name                            21\n",
              "neighbourhood_group                   0\n",
              "neighbourhood                         0\n",
              "latitude                              0\n",
              "longitude                             0\n",
              "room_type                             0\n",
              "price                                 0\n",
              "minimum_nights                        0\n",
              "number_of_reviews                     0\n",
              "last_review                       10052\n",
              "reviews_per_month                 10052\n",
              "calculated_host_listings_count        0\n",
              "availability_365                      0\n",
              "dtype: int64"
            ]
          },
          "metadata": {
            "tags": []
          },
          "execution_count": 41
        }
      ]
    },
    {
      "cell_type": "code",
      "metadata": {
        "id": "_cQvWDT1rREq"
      },
      "source": [
        "df.drop(['id','host_id','host_name'],axis=1,inplace=True)"
      ],
      "execution_count": 42,
      "outputs": []
    },
    {
      "cell_type": "code",
      "metadata": {
        "colab": {
          "base_uri": "https://localhost:8080/",
          "height": 258
        },
        "id": "gmmkRomSr60K",
        "outputId": "6876437d-7ec5-4b20-9812-67b16c106cb9"
      },
      "source": [
        "df.head()"
      ],
      "execution_count": 43,
      "outputs": [
        {
          "output_type": "execute_result",
          "data": {
            "text/html": [
              "<div>\n",
              "<style scoped>\n",
              "    .dataframe tbody tr th:only-of-type {\n",
              "        vertical-align: middle;\n",
              "    }\n",
              "\n",
              "    .dataframe tbody tr th {\n",
              "        vertical-align: top;\n",
              "    }\n",
              "\n",
              "    .dataframe thead th {\n",
              "        text-align: right;\n",
              "    }\n",
              "</style>\n",
              "<table border=\"1\" class=\"dataframe\">\n",
              "  <thead>\n",
              "    <tr style=\"text-align: right;\">\n",
              "      <th></th>\n",
              "      <th>name</th>\n",
              "      <th>neighbourhood_group</th>\n",
              "      <th>neighbourhood</th>\n",
              "      <th>latitude</th>\n",
              "      <th>longitude</th>\n",
              "      <th>room_type</th>\n",
              "      <th>price</th>\n",
              "      <th>minimum_nights</th>\n",
              "      <th>number_of_reviews</th>\n",
              "      <th>last_review</th>\n",
              "      <th>reviews_per_month</th>\n",
              "      <th>calculated_host_listings_count</th>\n",
              "      <th>availability_365</th>\n",
              "    </tr>\n",
              "  </thead>\n",
              "  <tbody>\n",
              "    <tr>\n",
              "      <th>0</th>\n",
              "      <td>Clean &amp; quiet apt home by the park</td>\n",
              "      <td>Brooklyn</td>\n",
              "      <td>Kensington</td>\n",
              "      <td>40.64749</td>\n",
              "      <td>-73.97237</td>\n",
              "      <td>Private room</td>\n",
              "      <td>149</td>\n",
              "      <td>1</td>\n",
              "      <td>9</td>\n",
              "      <td>2018-10-19</td>\n",
              "      <td>0.21</td>\n",
              "      <td>6</td>\n",
              "      <td>365</td>\n",
              "    </tr>\n",
              "    <tr>\n",
              "      <th>1</th>\n",
              "      <td>Skylit Midtown Castle</td>\n",
              "      <td>Manhattan</td>\n",
              "      <td>Midtown</td>\n",
              "      <td>40.75362</td>\n",
              "      <td>-73.98377</td>\n",
              "      <td>Entire home/apt</td>\n",
              "      <td>225</td>\n",
              "      <td>1</td>\n",
              "      <td>45</td>\n",
              "      <td>2019-05-21</td>\n",
              "      <td>0.38</td>\n",
              "      <td>2</td>\n",
              "      <td>355</td>\n",
              "    </tr>\n",
              "    <tr>\n",
              "      <th>2</th>\n",
              "      <td>THE VILLAGE OF HARLEM....NEW YORK !</td>\n",
              "      <td>Manhattan</td>\n",
              "      <td>Harlem</td>\n",
              "      <td>40.80902</td>\n",
              "      <td>-73.94190</td>\n",
              "      <td>Private room</td>\n",
              "      <td>150</td>\n",
              "      <td>3</td>\n",
              "      <td>0</td>\n",
              "      <td>NaN</td>\n",
              "      <td>NaN</td>\n",
              "      <td>1</td>\n",
              "      <td>365</td>\n",
              "    </tr>\n",
              "    <tr>\n",
              "      <th>3</th>\n",
              "      <td>Cozy Entire Floor of Brownstone</td>\n",
              "      <td>Brooklyn</td>\n",
              "      <td>Clinton Hill</td>\n",
              "      <td>40.68514</td>\n",
              "      <td>-73.95976</td>\n",
              "      <td>Entire home/apt</td>\n",
              "      <td>89</td>\n",
              "      <td>1</td>\n",
              "      <td>270</td>\n",
              "      <td>2019-07-05</td>\n",
              "      <td>4.64</td>\n",
              "      <td>1</td>\n",
              "      <td>194</td>\n",
              "    </tr>\n",
              "    <tr>\n",
              "      <th>4</th>\n",
              "      <td>Entire Apt: Spacious Studio/Loft by central park</td>\n",
              "      <td>Manhattan</td>\n",
              "      <td>East Harlem</td>\n",
              "      <td>40.79851</td>\n",
              "      <td>-73.94399</td>\n",
              "      <td>Entire home/apt</td>\n",
              "      <td>80</td>\n",
              "      <td>10</td>\n",
              "      <td>9</td>\n",
              "      <td>2018-11-19</td>\n",
              "      <td>0.10</td>\n",
              "      <td>1</td>\n",
              "      <td>0</td>\n",
              "    </tr>\n",
              "  </tbody>\n",
              "</table>\n",
              "</div>"
            ],
            "text/plain": [
              "                                               name  ... availability_365\n",
              "0                Clean & quiet apt home by the park  ...              365\n",
              "1                             Skylit Midtown Castle  ...              355\n",
              "2               THE VILLAGE OF HARLEM....NEW YORK !  ...              365\n",
              "3                   Cozy Entire Floor of Brownstone  ...              194\n",
              "4  Entire Apt: Spacious Studio/Loft by central park  ...                0\n",
              "\n",
              "[5 rows x 13 columns]"
            ]
          },
          "metadata": {
            "tags": []
          },
          "execution_count": 43
        }
      ]
    },
    {
      "cell_type": "code",
      "metadata": {
        "colab": {
          "base_uri": "https://localhost:8080/"
        },
        "id": "2Pyrrroar9P6",
        "outputId": "f51f1c2b-0934-4403-fc25-ebc839ff6a60"
      },
      "source": [
        "df.isnull().sum()"
      ],
      "execution_count": 44,
      "outputs": [
        {
          "output_type": "execute_result",
          "data": {
            "text/plain": [
              "name                                 16\n",
              "neighbourhood_group                   0\n",
              "neighbourhood                         0\n",
              "latitude                              0\n",
              "longitude                             0\n",
              "room_type                             0\n",
              "price                                 0\n",
              "minimum_nights                        0\n",
              "number_of_reviews                     0\n",
              "last_review                       10052\n",
              "reviews_per_month                 10052\n",
              "calculated_host_listings_count        0\n",
              "availability_365                      0\n",
              "dtype: int64"
            ]
          },
          "metadata": {
            "tags": []
          },
          "execution_count": 44
        }
      ]
    },
    {
      "cell_type": "code",
      "metadata": {
        "colab": {
          "base_uri": "https://localhost:8080/"
        },
        "id": "XKVwcKhlsBJY",
        "outputId": "23417dd7-8180-4833-e115-78f7bec8a688"
      },
      "source": [
        "((df.isnull().sum())/df.shape[0]*100)"
      ],
      "execution_count": 45,
      "outputs": [
        {
          "output_type": "execute_result",
          "data": {
            "text/plain": [
              "name                               0.032723\n",
              "neighbourhood_group                0.000000\n",
              "neighbourhood                      0.000000\n",
              "latitude                           0.000000\n",
              "longitude                          0.000000\n",
              "room_type                          0.000000\n",
              "price                              0.000000\n",
              "minimum_nights                     0.000000\n",
              "number_of_reviews                  0.000000\n",
              "last_review                       20.558339\n",
              "reviews_per_month                 20.558339\n",
              "calculated_host_listings_count     0.000000\n",
              "availability_365                   0.000000\n",
              "dtype: float64"
            ]
          },
          "metadata": {
            "tags": []
          },
          "execution_count": 45
        }
      ]
    },
    {
      "cell_type": "code",
      "metadata": {
        "id": "OWK8wS0RsaNg"
      },
      "source": [
        "df.drop(['last_review'],axis=1,inplace=True)"
      ],
      "execution_count": 46,
      "outputs": []
    },
    {
      "cell_type": "code",
      "metadata": {
        "colab": {
          "base_uri": "https://localhost:8080/"
        },
        "id": "2KInGU7AsnJo",
        "outputId": "b30612d9-47f9-4fe7-abd9-2712c9935934"
      },
      "source": [
        "((df.isnull().sum())/df.shape[0]*100)"
      ],
      "execution_count": 47,
      "outputs": [
        {
          "output_type": "execute_result",
          "data": {
            "text/plain": [
              "name                               0.032723\n",
              "neighbourhood_group                0.000000\n",
              "neighbourhood                      0.000000\n",
              "latitude                           0.000000\n",
              "longitude                          0.000000\n",
              "room_type                          0.000000\n",
              "price                              0.000000\n",
              "minimum_nights                     0.000000\n",
              "number_of_reviews                  0.000000\n",
              "reviews_per_month                 20.558339\n",
              "calculated_host_listings_count     0.000000\n",
              "availability_365                   0.000000\n",
              "dtype: float64"
            ]
          },
          "metadata": {
            "tags": []
          },
          "execution_count": 47
        }
      ]
    },
    {
      "cell_type": "code",
      "metadata": {
        "colab": {
          "base_uri": "https://localhost:8080/"
        },
        "id": "tEPU670xtV43",
        "outputId": "2c5e0f65-cce6-4e5a-c31b-1bf94e92cca4"
      },
      "source": [
        "df.info()"
      ],
      "execution_count": 48,
      "outputs": [
        {
          "output_type": "stream",
          "text": [
            "<class 'pandas.core.frame.DataFrame'>\n",
            "RangeIndex: 48895 entries, 0 to 48894\n",
            "Data columns (total 12 columns):\n",
            " #   Column                          Non-Null Count  Dtype  \n",
            "---  ------                          --------------  -----  \n",
            " 0   name                            48879 non-null  object \n",
            " 1   neighbourhood_group             48895 non-null  object \n",
            " 2   neighbourhood                   48895 non-null  object \n",
            " 3   latitude                        48895 non-null  float64\n",
            " 4   longitude                       48895 non-null  float64\n",
            " 5   room_type                       48895 non-null  object \n",
            " 6   price                           48895 non-null  int64  \n",
            " 7   minimum_nights                  48895 non-null  int64  \n",
            " 8   number_of_reviews               48895 non-null  int64  \n",
            " 9   reviews_per_month               38843 non-null  float64\n",
            " 10  calculated_host_listings_count  48895 non-null  int64  \n",
            " 11  availability_365                48895 non-null  int64  \n",
            "dtypes: float64(3), int64(5), object(4)\n",
            "memory usage: 4.5+ MB\n"
          ],
          "name": "stdout"
        }
      ]
    },
    {
      "cell_type": "code",
      "metadata": {
        "id": "x_4D4FgVuWqH"
      },
      "source": [
        "df[\"reviews_per_month\"].replace(np.nan,df[\"reviews_per_month\"].mean(),inplace=True)"
      ],
      "execution_count": 49,
      "outputs": []
    },
    {
      "cell_type": "code",
      "metadata": {
        "colab": {
          "base_uri": "https://localhost:8080/"
        },
        "id": "RX65LLF-v-lG",
        "outputId": "d0ff7441-ef19-4cf6-d067-5dbed095c996"
      },
      "source": [
        "df.isnull().sum()"
      ],
      "execution_count": 50,
      "outputs": [
        {
          "output_type": "execute_result",
          "data": {
            "text/plain": [
              "name                              16\n",
              "neighbourhood_group                0\n",
              "neighbourhood                      0\n",
              "latitude                           0\n",
              "longitude                          0\n",
              "room_type                          0\n",
              "price                              0\n",
              "minimum_nights                     0\n",
              "number_of_reviews                  0\n",
              "reviews_per_month                  0\n",
              "calculated_host_listings_count     0\n",
              "availability_365                   0\n",
              "dtype: int64"
            ]
          },
          "metadata": {
            "tags": []
          },
          "execution_count": 50
        }
      ]
    },
    {
      "cell_type": "code",
      "metadata": {
        "id": "aFL3q0UJt-if"
      },
      "source": [
        "dt=list(df[((df.isnull().sum(axis=1)/df.shape[1])*100)>5].index)"
      ],
      "execution_count": 51,
      "outputs": []
    },
    {
      "cell_type": "code",
      "metadata": {
        "id": "nafhNudDuHtn"
      },
      "source": [
        "for x in dt:\n",
        "    df=df.drop(x)"
      ],
      "execution_count": 52,
      "outputs": []
    },
    {
      "cell_type": "code",
      "metadata": {
        "colab": {
          "base_uri": "https://localhost:8080/"
        },
        "id": "JxCp8k2WuL53",
        "outputId": "3a3f3be8-bf62-4cde-c273-303360ed329f"
      },
      "source": [
        "df.isnull().sum()"
      ],
      "execution_count": 53,
      "outputs": [
        {
          "output_type": "execute_result",
          "data": {
            "text/plain": [
              "name                              0\n",
              "neighbourhood_group               0\n",
              "neighbourhood                     0\n",
              "latitude                          0\n",
              "longitude                         0\n",
              "room_type                         0\n",
              "price                             0\n",
              "minimum_nights                    0\n",
              "number_of_reviews                 0\n",
              "reviews_per_month                 0\n",
              "calculated_host_listings_count    0\n",
              "availability_365                  0\n",
              "dtype: int64"
            ]
          },
          "metadata": {
            "tags": []
          },
          "execution_count": 53
        }
      ]
    },
    {
      "cell_type": "code",
      "metadata": {
        "id": "Rd_xYeT2wCJm"
      },
      "source": [
        "#is_NaN = df.isnull()\n",
        "#row_has_NaN = is_NaN.any(axis=1)\n",
        "#rows_with_NaN = df[row_has_NaN]\n",
        "#print(rows_with_NaN)\n",
        "# checking which row is null"
      ],
      "execution_count": 54,
      "outputs": []
    },
    {
      "cell_type": "code",
      "metadata": {
        "id": "jJRsESynwEHW"
      },
      "source": [
        "#df.drop([2854,3703,5775,5975,6269,6567,6605,8841,11963,12824,13059,13401,15819,16071,18047,28889],axis=0,inplace=True)#dropping the row"
      ],
      "execution_count": 55,
      "outputs": []
    },
    {
      "cell_type": "code",
      "metadata": {
        "id": "b8y1Kgaiwziv"
      },
      "source": [
        "#df.isnull().sum()"
      ],
      "execution_count": 56,
      "outputs": []
    },
    {
      "cell_type": "code",
      "metadata": {
        "colab": {
          "base_uri": "https://localhost:8080/"
        },
        "id": "_vXBiiUnw1t7",
        "outputId": "f9b4d2b6-30dc-4ea6-9f51-ef40ec37cd90"
      },
      "source": [
        "df.info()"
      ],
      "execution_count": 57,
      "outputs": [
        {
          "output_type": "stream",
          "text": [
            "<class 'pandas.core.frame.DataFrame'>\n",
            "Int64Index: 48879 entries, 0 to 48894\n",
            "Data columns (total 12 columns):\n",
            " #   Column                          Non-Null Count  Dtype  \n",
            "---  ------                          --------------  -----  \n",
            " 0   name                            48879 non-null  object \n",
            " 1   neighbourhood_group             48879 non-null  object \n",
            " 2   neighbourhood                   48879 non-null  object \n",
            " 3   latitude                        48879 non-null  float64\n",
            " 4   longitude                       48879 non-null  float64\n",
            " 5   room_type                       48879 non-null  object \n",
            " 6   price                           48879 non-null  int64  \n",
            " 7   minimum_nights                  48879 non-null  int64  \n",
            " 8   number_of_reviews               48879 non-null  int64  \n",
            " 9   reviews_per_month               48879 non-null  float64\n",
            " 10  calculated_host_listings_count  48879 non-null  int64  \n",
            " 11  availability_365                48879 non-null  int64  \n",
            "dtypes: float64(3), int64(5), object(4)\n",
            "memory usage: 4.8+ MB\n"
          ],
          "name": "stdout"
        }
      ]
    },
    {
      "cell_type": "code",
      "metadata": {
        "id": "9vMrMByww7fI"
      },
      "source": [
        "df_num=df.select_dtypes([\"int64\",\"float64\"])\n",
        "df_cat=df.select_dtypes(\"object\")"
      ],
      "execution_count": 58,
      "outputs": []
    },
    {
      "cell_type": "code",
      "metadata": {
        "colab": {
          "base_uri": "https://localhost:8080/"
        },
        "id": "1xE22CuCNeqt",
        "outputId": "ba845eb2-d22d-4e9f-a8cd-f814c0f48e5c"
      },
      "source": [
        "from sklearn.preprocessing import LabelEncoder\n",
        "for col in df_cat: \n",
        "    le=LabelEncoder()\n",
        "    df_cat[col]=le.fit_transform(df_cat[col])"
      ],
      "execution_count": 59,
      "outputs": [
        {
          "output_type": "stream",
          "text": [
            "/usr/local/lib/python3.7/dist-packages/ipykernel_launcher.py:4: SettingWithCopyWarning: \n",
            "A value is trying to be set on a copy of a slice from a DataFrame.\n",
            "Try using .loc[row_indexer,col_indexer] = value instead\n",
            "\n",
            "See the caveats in the documentation: https://pandas.pydata.org/pandas-docs/stable/user_guide/indexing.html#returning-a-view-versus-a-copy\n",
            "  after removing the cwd from sys.path.\n"
          ],
          "name": "stderr"
        }
      ]
    },
    {
      "cell_type": "code",
      "metadata": {
        "colab": {
          "base_uri": "https://localhost:8080/",
          "height": 206
        },
        "id": "jCe3R1eKNng5",
        "outputId": "25c1cdaa-6f5b-4e1e-f387-37688805352d"
      },
      "source": [
        "df_cat.head()"
      ],
      "execution_count": 60,
      "outputs": [
        {
          "output_type": "execute_result",
          "data": {
            "text/html": [
              "<div>\n",
              "<style scoped>\n",
              "    .dataframe tbody tr th:only-of-type {\n",
              "        vertical-align: middle;\n",
              "    }\n",
              "\n",
              "    .dataframe tbody tr th {\n",
              "        vertical-align: top;\n",
              "    }\n",
              "\n",
              "    .dataframe thead th {\n",
              "        text-align: right;\n",
              "    }\n",
              "</style>\n",
              "<table border=\"1\" class=\"dataframe\">\n",
              "  <thead>\n",
              "    <tr style=\"text-align: right;\">\n",
              "      <th></th>\n",
              "      <th>name</th>\n",
              "      <th>neighbourhood_group</th>\n",
              "      <th>neighbourhood</th>\n",
              "      <th>room_type</th>\n",
              "    </tr>\n",
              "  </thead>\n",
              "  <tbody>\n",
              "    <tr>\n",
              "      <th>0</th>\n",
              "      <td>12328</td>\n",
              "      <td>1</td>\n",
              "      <td>108</td>\n",
              "      <td>1</td>\n",
              "    </tr>\n",
              "    <tr>\n",
              "      <th>1</th>\n",
              "      <td>37455</td>\n",
              "      <td>2</td>\n",
              "      <td>127</td>\n",
              "      <td>0</td>\n",
              "    </tr>\n",
              "    <tr>\n",
              "      <th>2</th>\n",
              "      <td>43543</td>\n",
              "      <td>2</td>\n",
              "      <td>94</td>\n",
              "      <td>1</td>\n",
              "    </tr>\n",
              "    <tr>\n",
              "      <th>3</th>\n",
              "      <td>14783</td>\n",
              "      <td>1</td>\n",
              "      <td>41</td>\n",
              "      <td>0</td>\n",
              "    </tr>\n",
              "    <tr>\n",
              "      <th>4</th>\n",
              "      <td>18693</td>\n",
              "      <td>2</td>\n",
              "      <td>61</td>\n",
              "      <td>0</td>\n",
              "    </tr>\n",
              "  </tbody>\n",
              "</table>\n",
              "</div>"
            ],
            "text/plain": [
              "    name  neighbourhood_group  neighbourhood  room_type\n",
              "0  12328                    1            108          1\n",
              "1  37455                    2            127          0\n",
              "2  43543                    2             94          1\n",
              "3  14783                    1             41          0\n",
              "4  18693                    2             61          0"
            ]
          },
          "metadata": {
            "tags": []
          },
          "execution_count": 60
        }
      ]
    },
    {
      "cell_type": "code",
      "metadata": {
        "colab": {
          "base_uri": "https://localhost:8080/",
          "height": 206
        },
        "id": "JklrhVsDNtiw",
        "outputId": "f0bbfd3d-ae3a-4dee-946c-82f01d76e3c4"
      },
      "source": [
        "df_new=pd.concat([df_num,df_cat],axis=1)\n",
        "df_new.head()"
      ],
      "execution_count": 61,
      "outputs": [
        {
          "output_type": "execute_result",
          "data": {
            "text/html": [
              "<div>\n",
              "<style scoped>\n",
              "    .dataframe tbody tr th:only-of-type {\n",
              "        vertical-align: middle;\n",
              "    }\n",
              "\n",
              "    .dataframe tbody tr th {\n",
              "        vertical-align: top;\n",
              "    }\n",
              "\n",
              "    .dataframe thead th {\n",
              "        text-align: right;\n",
              "    }\n",
              "</style>\n",
              "<table border=\"1\" class=\"dataframe\">\n",
              "  <thead>\n",
              "    <tr style=\"text-align: right;\">\n",
              "      <th></th>\n",
              "      <th>latitude</th>\n",
              "      <th>longitude</th>\n",
              "      <th>price</th>\n",
              "      <th>minimum_nights</th>\n",
              "      <th>number_of_reviews</th>\n",
              "      <th>reviews_per_month</th>\n",
              "      <th>calculated_host_listings_count</th>\n",
              "      <th>availability_365</th>\n",
              "      <th>name</th>\n",
              "      <th>neighbourhood_group</th>\n",
              "      <th>neighbourhood</th>\n",
              "      <th>room_type</th>\n",
              "    </tr>\n",
              "  </thead>\n",
              "  <tbody>\n",
              "    <tr>\n",
              "      <th>0</th>\n",
              "      <td>40.64749</td>\n",
              "      <td>-73.97237</td>\n",
              "      <td>149</td>\n",
              "      <td>1</td>\n",
              "      <td>9</td>\n",
              "      <td>0.210000</td>\n",
              "      <td>6</td>\n",
              "      <td>365</td>\n",
              "      <td>12328</td>\n",
              "      <td>1</td>\n",
              "      <td>108</td>\n",
              "      <td>1</td>\n",
              "    </tr>\n",
              "    <tr>\n",
              "      <th>1</th>\n",
              "      <td>40.75362</td>\n",
              "      <td>-73.98377</td>\n",
              "      <td>225</td>\n",
              "      <td>1</td>\n",
              "      <td>45</td>\n",
              "      <td>0.380000</td>\n",
              "      <td>2</td>\n",
              "      <td>355</td>\n",
              "      <td>37455</td>\n",
              "      <td>2</td>\n",
              "      <td>127</td>\n",
              "      <td>0</td>\n",
              "    </tr>\n",
              "    <tr>\n",
              "      <th>2</th>\n",
              "      <td>40.80902</td>\n",
              "      <td>-73.94190</td>\n",
              "      <td>150</td>\n",
              "      <td>3</td>\n",
              "      <td>0</td>\n",
              "      <td>1.373221</td>\n",
              "      <td>1</td>\n",
              "      <td>365</td>\n",
              "      <td>43543</td>\n",
              "      <td>2</td>\n",
              "      <td>94</td>\n",
              "      <td>1</td>\n",
              "    </tr>\n",
              "    <tr>\n",
              "      <th>3</th>\n",
              "      <td>40.68514</td>\n",
              "      <td>-73.95976</td>\n",
              "      <td>89</td>\n",
              "      <td>1</td>\n",
              "      <td>270</td>\n",
              "      <td>4.640000</td>\n",
              "      <td>1</td>\n",
              "      <td>194</td>\n",
              "      <td>14783</td>\n",
              "      <td>1</td>\n",
              "      <td>41</td>\n",
              "      <td>0</td>\n",
              "    </tr>\n",
              "    <tr>\n",
              "      <th>4</th>\n",
              "      <td>40.79851</td>\n",
              "      <td>-73.94399</td>\n",
              "      <td>80</td>\n",
              "      <td>10</td>\n",
              "      <td>9</td>\n",
              "      <td>0.100000</td>\n",
              "      <td>1</td>\n",
              "      <td>0</td>\n",
              "      <td>18693</td>\n",
              "      <td>2</td>\n",
              "      <td>61</td>\n",
              "      <td>0</td>\n",
              "    </tr>\n",
              "  </tbody>\n",
              "</table>\n",
              "</div>"
            ],
            "text/plain": [
              "   latitude  longitude  price  ...  neighbourhood_group  neighbourhood  room_type\n",
              "0  40.64749  -73.97237    149  ...                    1            108          1\n",
              "1  40.75362  -73.98377    225  ...                    2            127          0\n",
              "2  40.80902  -73.94190    150  ...                    2             94          1\n",
              "3  40.68514  -73.95976     89  ...                    1             41          0\n",
              "4  40.79851  -73.94399     80  ...                    2             61          0\n",
              "\n",
              "[5 rows x 12 columns]"
            ]
          },
          "metadata": {
            "tags": []
          },
          "execution_count": 61
        }
      ]
    },
    {
      "cell_type": "code",
      "metadata": {
        "id": "yFtYOWPVN1-R"
      },
      "source": [
        "X=df_new.drop(\"price\",axis=1) #Input means independent variable\n",
        "Y=df_new[\"price\"] "
      ],
      "execution_count": 62,
      "outputs": []
    },
    {
      "cell_type": "code",
      "metadata": {
        "id": "lbUNM3bNOFOp"
      },
      "source": [
        "from sklearn.model_selection import train_test_split\n",
        "from keras.layers import Dropout\n",
        "from keras import regularizers\n",
        "X_train,X_test,Y_train,Y_test=train_test_split(X,Y,test_size=0.3,random_state=1)"
      ],
      "execution_count": 63,
      "outputs": []
    },
    {
      "cell_type": "code",
      "metadata": {
        "id": "P6yrlQ3jOIpZ"
      },
      "source": [
        "from sklearn.preprocessing import StandardScaler\n",
        "ss=StandardScaler()\n",
        "X_train=ss.fit_transform(X_train)\n",
        "X_test=ss.transform(X_test)"
      ],
      "execution_count": 64,
      "outputs": []
    },
    {
      "cell_type": "code",
      "metadata": {
        "id": "vrUBThFYOO8Z"
      },
      "source": [
        "#model = tf.keras.Sequential([\n",
        "#tf.keras.layers.Dense(1000, activation='relu', kernel_regularizer=regularizers.l2(0.01), input_shape=(X.shape[1],)),\n",
        "#    Dropout(0.3),  #30% neuron deactivate\n",
        "#  tf.keras.layers.Dense(1000, activation='relu', kernel_regularizer=regularizers.l2(0.01)),\n",
        "#    Dropout(0.3),\n",
        "#    tf.keras.layers.Dense(1000, activation='relu', kernel_regularizer=regularizers.l2(0.01)),\n",
        "#    Dropout(0.3),\n",
        "#    tf.keras.layers.Dense(1000, activation='relu', kernel_regularizer=regularizers.l2(0.01)),\n",
        "#    Dropout(0.3),\n",
        "#    tf.keras.layers.Dense(1,kernel_regularizer=regularizers.l2(0.01))\n",
        "#])      "
      ],
      "execution_count": 65,
      "outputs": []
    },
    {
      "cell_type": "code",
      "metadata": {
        "id": "nGajZlqu6d3b"
      },
      "source": [
        "#model = tf.keras.Sequential([\n",
        "#tf.keras.layers.Dense(10, activation='relu', input_shape=(X.shape[1],)),\n",
        "#    tf.keras.layers.Dense(128, activation='relu', ),\n",
        "#    tf.keras.layers.Dense(64, activation='relu', ),\n",
        "#    Dropout(0.3),\n",
        "#    tf.keras.layers.Dense(32, activation='relu', ),\n",
        "#    tf.keras.layers.Dense(1)\n",
        "#])"
      ],
      "execution_count": 66,
      "outputs": []
    },
    {
      "cell_type": "code",
      "metadata": {
        "id": "BK9u6ozU3iaW"
      },
      "source": [
        "\n",
        "model=tf.keras.Sequential([\n",
        "                           tf.keras.layers.Dense(128,activation='relu',input_shape=(X.shape[1],)),\n",
        "                           tf.keras.layers.Dense(256,activation='relu'),\n",
        "                           tf.keras.layers.Dense(256,activation='relu'),\n",
        "                           tf.keras.layers.Dense(1,activation='linear')\n",
        "])"
      ],
      "execution_count": 67,
      "outputs": []
    },
    {
      "cell_type": "code",
      "metadata": {
        "id": "d2kL98OCOfYa"
      },
      "source": [
        "opt=tf.keras.optimizers.Adam(learning_rate=0.5)\n",
        "#rmse=tf.keras.metrics.RootMeanSquaredError()\n",
        "model.compile(optimizer=opt,\n",
        "              loss='mean_squared_error',\n",
        "              metrics=['accuracy'])"
      ],
      "execution_count": 68,
      "outputs": []
    },
    {
      "cell_type": "code",
      "metadata": {
        "colab": {
          "base_uri": "https://localhost:8080/"
        },
        "id": "559o3_7dPP_Z",
        "outputId": "3673e996-b691-45cc-ef8e-b5aadadc6877"
      },
      "source": [
        "trained_model=model.fit(X_train,Y_train,epochs=100,batch_size=32)\n",
        "trained_model"
      ],
      "execution_count": 69,
      "outputs": [
        {
          "output_type": "stream",
          "text": [
            "Epoch 1/100\n",
            "1070/1070 [==============================] - 4s 3ms/step - loss: 141347992.1166 - accuracy: 0.0000e+00\n",
            "Epoch 2/100\n",
            "1070/1070 [==============================] - 3s 3ms/step - loss: 55527.4526 - accuracy: 0.0000e+00\n",
            "Epoch 3/100\n",
            "1070/1070 [==============================] - 3s 3ms/step - loss: 49788.3950 - accuracy: 0.0000e+00\n",
            "Epoch 4/100\n",
            "1070/1070 [==============================] - 3s 3ms/step - loss: 40367.1869 - accuracy: 0.0000e+00\n",
            "Epoch 5/100\n",
            "1070/1070 [==============================] - 3s 3ms/step - loss: 64833.4653 - accuracy: 0.0000e+00\n",
            "Epoch 6/100\n",
            "1070/1070 [==============================] - 3s 3ms/step - loss: 43362.5527 - accuracy: 0.0000e+00\n",
            "Epoch 7/100\n",
            "1070/1070 [==============================] - 3s 3ms/step - loss: 46916.8999 - accuracy: 0.0000e+00\n",
            "Epoch 8/100\n",
            "1070/1070 [==============================] - 3s 3ms/step - loss: 60585.2594 - accuracy: 0.0000e+00\n",
            "Epoch 9/100\n",
            "1070/1070 [==============================] - 3s 3ms/step - loss: 45970.7952 - accuracy: 0.0000e+00\n",
            "Epoch 10/100\n",
            "1070/1070 [==============================] - 3s 3ms/step - loss: 43224.4389 - accuracy: 0.0000e+00\n",
            "Epoch 11/100\n",
            "1070/1070 [==============================] - 3s 3ms/step - loss: 44943.8637 - accuracy: 0.0000e+00\n",
            "Epoch 12/100\n",
            "1070/1070 [==============================] - 3s 3ms/step - loss: 55588.9393 - accuracy: 0.0000e+00\n",
            "Epoch 13/100\n",
            "1070/1070 [==============================] - 3s 3ms/step - loss: 42552.8166 - accuracy: 0.0000e+00\n",
            "Epoch 14/100\n",
            "1070/1070 [==============================] - 3s 3ms/step - loss: 50069.6559 - accuracy: 0.0000e+00\n",
            "Epoch 15/100\n",
            "1070/1070 [==============================] - 3s 3ms/step - loss: 55188.6272 - accuracy: 0.0000e+00\n",
            "Epoch 16/100\n",
            "1070/1070 [==============================] - 3s 3ms/step - loss: 51394.9235 - accuracy: 0.0000e+00\n",
            "Epoch 17/100\n",
            "1070/1070 [==============================] - 3s 3ms/step - loss: 49789.1302 - accuracy: 0.0000e+00\n",
            "Epoch 18/100\n",
            "1070/1070 [==============================] - 3s 3ms/step - loss: 44157.4403 - accuracy: 0.0000e+00\n",
            "Epoch 19/100\n",
            "1070/1070 [==============================] - 3s 3ms/step - loss: 49659.4301 - accuracy: 0.0000e+00\n",
            "Epoch 20/100\n",
            "1070/1070 [==============================] - 3s 3ms/step - loss: 48533.9172 - accuracy: 0.0000e+00\n",
            "Epoch 21/100\n",
            "1070/1070 [==============================] - 3s 3ms/step - loss: 67788.3183 - accuracy: 0.0000e+00\n",
            "Epoch 22/100\n",
            "1070/1070 [==============================] - 3s 3ms/step - loss: 44515.9200 - accuracy: 0.0000e+00\n",
            "Epoch 23/100\n",
            "1070/1070 [==============================] - 3s 3ms/step - loss: 44563.4295 - accuracy: 0.0000e+00\n",
            "Epoch 24/100\n",
            "1070/1070 [==============================] - 3s 3ms/step - loss: 52027.9558 - accuracy: 0.0000e+00\n",
            "Epoch 25/100\n",
            "1070/1070 [==============================] - 3s 3ms/step - loss: 46799.3989 - accuracy: 0.0000e+00\n",
            "Epoch 26/100\n",
            "1070/1070 [==============================] - 3s 3ms/step - loss: 47782.4566 - accuracy: 0.0000e+00\n",
            "Epoch 27/100\n",
            "1070/1070 [==============================] - 3s 3ms/step - loss: 45555.3594 - accuracy: 0.0000e+00\n",
            "Epoch 28/100\n",
            "1070/1070 [==============================] - 3s 3ms/step - loss: 61968.2336 - accuracy: 0.0000e+00\n",
            "Epoch 29/100\n",
            "1070/1070 [==============================] - 3s 3ms/step - loss: 46026.7024 - accuracy: 0.0000e+00\n",
            "Epoch 30/100\n",
            "1070/1070 [==============================] - 3s 3ms/step - loss: 68464.2624 - accuracy: 0.0000e+00\n",
            "Epoch 31/100\n",
            "1070/1070 [==============================] - 3s 3ms/step - loss: 41581.7191 - accuracy: 0.0000e+00\n",
            "Epoch 32/100\n",
            "1070/1070 [==============================] - 3s 3ms/step - loss: 38225.5615 - accuracy: 0.0000e+00\n",
            "Epoch 33/100\n",
            "1070/1070 [==============================] - 3s 3ms/step - loss: 48639.6714 - accuracy: 0.0000e+00\n",
            "Epoch 34/100\n",
            "1070/1070 [==============================] - 3s 3ms/step - loss: 49212.0275 - accuracy: 0.0000e+00\n",
            "Epoch 35/100\n",
            "1070/1070 [==============================] - 3s 3ms/step - loss: 47789.8953 - accuracy: 0.0000e+00\n",
            "Epoch 36/100\n",
            "1070/1070 [==============================] - 3s 3ms/step - loss: 42580.8900 - accuracy: 0.0000e+00\n",
            "Epoch 37/100\n",
            "1070/1070 [==============================] - 3s 3ms/step - loss: 43486.9698 - accuracy: 0.0000e+00\n",
            "Epoch 38/100\n",
            "1070/1070 [==============================] - 3s 3ms/step - loss: 49054.1808 - accuracy: 0.0000e+00\n",
            "Epoch 39/100\n",
            "1070/1070 [==============================] - 3s 3ms/step - loss: 53019.9400 - accuracy: 0.0000e+00\n",
            "Epoch 40/100\n",
            "1070/1070 [==============================] - 3s 3ms/step - loss: 50984.3041 - accuracy: 0.0000e+00\n",
            "Epoch 41/100\n",
            "1070/1070 [==============================] - 3s 3ms/step - loss: 52142.3954 - accuracy: 0.0000e+00\n",
            "Epoch 42/100\n",
            "1070/1070 [==============================] - 3s 3ms/step - loss: 49752.1885 - accuracy: 0.0000e+00\n",
            "Epoch 43/100\n",
            "1070/1070 [==============================] - 3s 3ms/step - loss: 51085.6489 - accuracy: 0.0000e+00\n",
            "Epoch 44/100\n",
            "1070/1070 [==============================] - 3s 3ms/step - loss: 43369.8068 - accuracy: 0.0000e+00\n",
            "Epoch 45/100\n",
            "1070/1070 [==============================] - 3s 3ms/step - loss: 49822.6414 - accuracy: 0.0000e+00\n",
            "Epoch 46/100\n",
            "1070/1070 [==============================] - 3s 3ms/step - loss: 37534.1406 - accuracy: 0.0000e+00\n",
            "Epoch 47/100\n",
            "1070/1070 [==============================] - 3s 3ms/step - loss: 53942.5484 - accuracy: 0.0000e+00\n",
            "Epoch 48/100\n",
            "1070/1070 [==============================] - 3s 3ms/step - loss: 47601.3690 - accuracy: 0.0000e+00\n",
            "Epoch 49/100\n",
            "1070/1070 [==============================] - 3s 3ms/step - loss: 57170.7291 - accuracy: 0.0000e+00\n",
            "Epoch 50/100\n",
            "1070/1070 [==============================] - 3s 3ms/step - loss: 38003.8997 - accuracy: 0.0000e+00\n",
            "Epoch 51/100\n",
            "1070/1070 [==============================] - 3s 3ms/step - loss: 51093.7396 - accuracy: 0.0000e+00\n",
            "Epoch 52/100\n",
            "1070/1070 [==============================] - 3s 3ms/step - loss: 55474.7307 - accuracy: 0.0000e+00\n",
            "Epoch 53/100\n",
            "1070/1070 [==============================] - 3s 3ms/step - loss: 42372.8438 - accuracy: 0.0000e+00\n",
            "Epoch 54/100\n",
            "1070/1070 [==============================] - 3s 3ms/step - loss: 52998.1734 - accuracy: 0.0000e+00\n",
            "Epoch 55/100\n",
            "1070/1070 [==============================] - 3s 3ms/step - loss: 51040.7646 - accuracy: 0.0000e+00\n",
            "Epoch 56/100\n",
            "1070/1070 [==============================] - 3s 3ms/step - loss: 41739.2823 - accuracy: 0.0000e+00\n",
            "Epoch 57/100\n",
            "1070/1070 [==============================] - 3s 3ms/step - loss: 50246.7016 - accuracy: 0.0000e+00\n",
            "Epoch 58/100\n",
            "1070/1070 [==============================] - 3s 3ms/step - loss: 49326.4024 - accuracy: 0.0000e+00\n",
            "Epoch 59/100\n",
            "1070/1070 [==============================] - 3s 3ms/step - loss: 39798.8137 - accuracy: 0.0000e+00\n",
            "Epoch 60/100\n",
            "1070/1070 [==============================] - 3s 3ms/step - loss: 41727.7871 - accuracy: 0.0000e+00\n",
            "Epoch 61/100\n",
            "1070/1070 [==============================] - 3s 3ms/step - loss: 49799.4686 - accuracy: 0.0000e+00\n",
            "Epoch 62/100\n",
            "1070/1070 [==============================] - 3s 3ms/step - loss: 43329.5098 - accuracy: 0.0000e+00\n",
            "Epoch 63/100\n",
            "1070/1070 [==============================] - 3s 3ms/step - loss: 53159.6339 - accuracy: 0.0000e+00\n",
            "Epoch 64/100\n",
            "1070/1070 [==============================] - 3s 3ms/step - loss: 53744.8809 - accuracy: 0.0000e+00\n",
            "Epoch 65/100\n",
            "1070/1070 [==============================] - 3s 3ms/step - loss: 49439.7617 - accuracy: 0.0000e+00\n",
            "Epoch 66/100\n",
            "1070/1070 [==============================] - 3s 3ms/step - loss: 47866.1923 - accuracy: 0.0000e+00\n",
            "Epoch 67/100\n",
            "1070/1070 [==============================] - 3s 3ms/step - loss: 43870.1414 - accuracy: 0.0000e+00\n",
            "Epoch 68/100\n",
            "1070/1070 [==============================] - 3s 3ms/step - loss: 38707.8557 - accuracy: 0.0000e+00\n",
            "Epoch 69/100\n",
            "1070/1070 [==============================] - 3s 3ms/step - loss: 49816.1488 - accuracy: 0.0000e+00\n",
            "Epoch 70/100\n",
            "1070/1070 [==============================] - 3s 3ms/step - loss: 48967.5514 - accuracy: 0.0000e+00\n",
            "Epoch 71/100\n",
            "1070/1070 [==============================] - 3s 3ms/step - loss: 49330.4038 - accuracy: 0.0000e+00\n",
            "Epoch 72/100\n",
            "1070/1070 [==============================] - 3s 3ms/step - loss: 44844.0850 - accuracy: 0.0000e+00\n",
            "Epoch 73/100\n",
            "1070/1070 [==============================] - 3s 3ms/step - loss: 43111.0833 - accuracy: 0.0000e+00\n",
            "Epoch 74/100\n",
            "1070/1070 [==============================] - 3s 3ms/step - loss: 42787.0017 - accuracy: 0.0000e+00\n",
            "Epoch 75/100\n",
            "1070/1070 [==============================] - 3s 3ms/step - loss: 57546.6154 - accuracy: 0.0000e+00\n",
            "Epoch 76/100\n",
            "1070/1070 [==============================] - 3s 3ms/step - loss: 52304.7477 - accuracy: 0.0000e+00\n",
            "Epoch 77/100\n",
            "1070/1070 [==============================] - 3s 3ms/step - loss: 51157.2763 - accuracy: 0.0000e+00\n",
            "Epoch 78/100\n",
            "1070/1070 [==============================] - 3s 3ms/step - loss: 46759.9880 - accuracy: 0.0000e+00\n",
            "Epoch 79/100\n",
            "1070/1070 [==============================] - 3s 3ms/step - loss: 49573.6947 - accuracy: 0.0000e+00\n",
            "Epoch 80/100\n",
            "1070/1070 [==============================] - 3s 3ms/step - loss: 56447.4148 - accuracy: 0.0000e+00\n",
            "Epoch 81/100\n",
            "1070/1070 [==============================] - 3s 3ms/step - loss: 39475.1016 - accuracy: 0.0000e+00\n",
            "Epoch 82/100\n",
            "1070/1070 [==============================] - 3s 3ms/step - loss: 51672.6125 - accuracy: 0.0000e+00\n",
            "Epoch 83/100\n",
            "1070/1070 [==============================] - 3s 3ms/step - loss: 54381.0704 - accuracy: 0.0000e+00\n",
            "Epoch 84/100\n",
            "1070/1070 [==============================] - 3s 3ms/step - loss: 56457.9966 - accuracy: 0.0000e+00\n",
            "Epoch 85/100\n",
            "1070/1070 [==============================] - 3s 3ms/step - loss: 47886.0023 - accuracy: 0.0000e+00\n",
            "Epoch 86/100\n",
            "1070/1070 [==============================] - 3s 3ms/step - loss: 54567.4702 - accuracy: 0.0000e+00\n",
            "Epoch 87/100\n",
            "1070/1070 [==============================] - 3s 3ms/step - loss: 46822.2464 - accuracy: 0.0000e+00\n",
            "Epoch 88/100\n",
            "1070/1070 [==============================] - 3s 3ms/step - loss: 45983.9018 - accuracy: 0.0000e+00\n",
            "Epoch 89/100\n",
            "1070/1070 [==============================] - 3s 3ms/step - loss: 46770.3155 - accuracy: 0.0000e+00\n",
            "Epoch 90/100\n",
            "1070/1070 [==============================] - 3s 3ms/step - loss: 42321.9109 - accuracy: 0.0000e+00\n",
            "Epoch 91/100\n",
            "1070/1070 [==============================] - 3s 3ms/step - loss: 52420.2500 - accuracy: 0.0000e+00\n",
            "Epoch 92/100\n",
            "1070/1070 [==============================] - 3s 3ms/step - loss: 52666.7595 - accuracy: 0.0000e+00\n",
            "Epoch 93/100\n",
            "1070/1070 [==============================] - 3s 3ms/step - loss: 43052.0194 - accuracy: 0.0000e+00\n",
            "Epoch 94/100\n",
            "1070/1070 [==============================] - 3s 3ms/step - loss: 54800.2464 - accuracy: 0.0000e+00\n",
            "Epoch 95/100\n",
            "1070/1070 [==============================] - 3s 3ms/step - loss: 41274.2745 - accuracy: 0.0000e+00\n",
            "Epoch 96/100\n",
            "1070/1070 [==============================] - 3s 3ms/step - loss: 48148.1502 - accuracy: 0.0000e+00\n",
            "Epoch 97/100\n",
            "1070/1070 [==============================] - 3s 3ms/step - loss: 56369.4235 - accuracy: 0.0000e+00\n",
            "Epoch 98/100\n",
            "1070/1070 [==============================] - 3s 3ms/step - loss: 54838.9518 - accuracy: 0.0000e+00\n",
            "Epoch 99/100\n",
            "1070/1070 [==============================] - 3s 3ms/step - loss: 50237.5448 - accuracy: 0.0000e+00\n",
            "Epoch 100/100\n",
            "1070/1070 [==============================] - 3s 3ms/step - loss: 48975.8176 - accuracy: 0.0000e+00\n"
          ],
          "name": "stdout"
        },
        {
          "output_type": "execute_result",
          "data": {
            "text/plain": [
              "<tensorflow.python.keras.callbacks.History at 0x7fb6fd55e710>"
            ]
          },
          "metadata": {
            "tags": []
          },
          "execution_count": 69
        }
      ]
    },
    {
      "cell_type": "code",
      "metadata": {
        "id": "bsT_wmpAPSCR",
        "colab": {
          "base_uri": "https://localhost:8080/"
        },
        "outputId": "b57115bb-9fa0-452f-ceef-55f34e14b0f6"
      },
      "source": [
        "Y_pred=model.predict(X_test)\n",
        "Y_pred\n",
        "from sklearn.metrics import r2_score\n",
        "print(r2_score(Y_test,Y_pred))"
      ],
      "execution_count": 74,
      "outputs": [
        {
          "output_type": "stream",
          "text": [
            "-6.6045234041745005e-06\n"
          ],
          "name": "stdout"
        }
      ]
    },
    {
      "cell_type": "code",
      "metadata": {
        "id": "24KOe0WRXdIU"
      },
      "source": [
        ""
      ],
      "execution_count": null,
      "outputs": []
    }
  ]
}